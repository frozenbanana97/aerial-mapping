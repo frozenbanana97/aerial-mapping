{
 "cells": [
  {
   "cell_type": "code",
   "execution_count": 7,
   "metadata": {},
   "outputs": [],
   "source": [
    "import os\n",
    "from os import mkdir\n",
    "from osgeo import gdal"
   ]
  },
  {
   "cell_type": "code",
   "execution_count": 9,
   "metadata": {},
   "outputs": [
    {
     "name": "stdout",
     "output_type": "stream",
     "text": [
      "File location example: '/home/user/Documents/', the final slash is important...\n",
      "\n",
      "Asset directories location: /home/kyle/Nextcloud/Drone/Projects/Gatineau Satellite Station/2.Assets/Chemin-McClelland-2022-12-21_1535-all/\n"
     ]
    }
   ],
   "source": [
    "print('File location example: \\'/home/user/Documents/\\', the final slash is important...')\n",
    "print()\n",
    "assetsLoc = input('Directory of assets directories: ')\n",
    "print('Asset directories location: ' + assetsLoc)"
   ]
  },
  {
   "cell_type": "code",
   "execution_count": 10,
   "metadata": {},
   "outputs": [],
   "source": [
    "isDir = os.path.isdir(assetsLoc + '/JPEGs')\n",
    "\n",
    "if isDir == False:\n",
    "\tmkdir(assetsLoc+'/JPEGs')"
   ]
  },
  {
   "cell_type": "code",
   "execution_count": 11,
   "metadata": {},
   "outputs": [
    {
     "name": "stdout",
     "output_type": "stream",
     "text": [
      "/home/kyle/Nextcloud/Drone/Projects/Gatineau Satellite Station/2.Assets/Chemin-McClelland-2022-12-21_1535-all/odm_dem/dsm.tif\n"
     ]
    }
   ],
   "source": [
    "dsmLoc =  assetsLoc +'odm_dem/dsm.tif'\n",
    "dtmLoc =  assetsLoc +'/odm_dem/dtm.tif'\n",
    "orthoLoc =  assetsLoc + '/odm_orthophoto/odm_orthophoto.tif'\n",
    "\n",
    "print(dsmLoc)"
   ]
  },
  {
   "cell_type": "code",
   "execution_count": 14,
   "metadata": {},
   "outputs": [
    {
     "name": "stdout",
     "output_type": "stream",
     "text": [
      "2022-12-21_1535\n"
     ]
    }
   ],
   "source": [
    "print(assetsLoc[-20:-5])"
   ]
  },
  {
   "cell_type": "code",
   "execution_count": 16,
   "metadata": {},
   "outputs": [
    {
     "name": "stderr",
     "output_type": "stream",
     "text": [
      "Warning 6: JPEG driver doesn't support data type Float32. Only eight and twelve bit bands supported (Mk1 libjpeg).\n",
      "\n",
      "Warning 6: JPEG driver doesn't support data type Float32. Only eight and twelve bit bands supported (Mk1 libjpeg).\n",
      "\n",
      "Warning 1: 4-band JPEGs will be interpreted on reading as in CMYK colorspace\n"
     ]
    },
    {
     "data": {
      "text/plain": [
       "<osgeo.gdal.Dataset; proxy of <Swig Object of type 'GDALDatasetShadow *' at 0x7f77a03538a0> >"
      ]
     },
     "execution_count": 16,
     "metadata": {},
     "output_type": "execute_result"
    }
   ],
   "source": [
    "saveOptions = []\n",
    "saveOptions.append(\"QUALITY=75\")\n",
    "\n",
    "# Obtains a JPEG GDAL driver\n",
    "jpegDriver = gdal.GetDriverByName(\"JPEG\")   \n",
    "\n",
    "# Create the .JPG file\n",
    "# gdal.Translate(\n",
    "# \tassetsLoc+'/JPEGs/'+ assetsLoc[-20:-5] + '_dsm.jpg',\n",
    "# \tdsmLoc,\n",
    "# \toptions = saveOptions\n",
    "# )\n",
    "\n",
    "# gdal.Translate(\n",
    "# \tassetsLoc+'/JPEGs/'+ assetsLoc[-20:-5] + '_dtm.jpg',\n",
    "# \tdtmLoc,\n",
    "# \toptions = saveOptions\n",
    "# )\n",
    "\n",
    "gdal.Translate(\n",
    "\tassetsLoc+'/JPEGs/'+ assetsLoc[-20:-5] + '_ortho.jpg',\n",
    "\torthoLoc,\n",
    "\toptions = saveOptions\n",
    ")"
   ]
  }
 ],
 "metadata": {
  "kernelspec": {
   "display_name": "Python 3",
   "language": "python",
   "name": "python3"
  },
  "language_info": {
   "codemirror_mode": {
    "name": "ipython",
    "version": 3
   },
   "file_extension": ".py",
   "mimetype": "text/x-python",
   "name": "python",
   "nbconvert_exporter": "python",
   "pygments_lexer": "ipython3",
   "version": "3.10.6"
  },
  "orig_nbformat": 4,
  "vscode": {
   "interpreter": {
    "hash": "916dbcbb3f70747c44a77c7bcd40155683ae19c65e1c03b4aa3499c5328201f1"
   }
  }
 },
 "nbformat": 4,
 "nbformat_minor": 2
}
